{
 "cells": [
  {
   "cell_type": "code",
   "execution_count": 1,
   "metadata": {},
   "outputs": [],
   "source": [
    "import random\n",
    "from abc import ABCMeta, abstractmethod\n",
    "\n",
    "import numpy as np\n",
    "import matplotlib.pyplot as plt\n"
   ]
  },
  {
   "cell_type": "code",
   "execution_count": 2,
   "metadata": {},
   "outputs": [],
   "source": [
    "class Task:\n",
    "    def __init__(self, uid, create_time, exe_time, priority=None, deadline=None):\n",
    "        self.id = uid\n",
    "        self.create_time = create_time\n",
    "        self.exe_time = exe_time\n",
    "        self.exe_remain = exe_time\n",
    "        self.deadline = deadline\n",
    "        self.priority = priority\n",
    "        self.exe_start = None\n",
    "        self.exe_finish = None\n",
    "        self.completed = False\n",
    "        self.wait_time = 0\n",
    "        \n",
    "    def exe_tick(self, sys_time):\n",
    "        if self.exe_time == self.exe_remain:\n",
    "            self.exe_start = sys_time\n",
    "            self.wait_time = sys_time - self.create_time\n",
    "            \n",
    "        self.exe_remain -= 1\n",
    "        if self.exe_remain == 0:\n",
    "            self.completed = True\n",
    "            self.exe_finish = sys_time\n",
    "            \n",
    "    def __eq__(self, other):\n",
    "        return self.id == other.id\n",
    "             \n",
    "    def __str__(self):\n",
    "        return f\"Task {self.id} Creation time = {self.create_time} \" + \\\n",
    "               f\"exe_time = {self.exe_time} Deadline = {self.deadline}\"\n",
    "        \n",
    "    def __repr__(self):\n",
    "        return f\"Task {self.id}\"\n",
    "         "
   ]
  },
  {
   "cell_type": "code",
   "execution_count": 3,
   "metadata": {},
   "outputs": [],
   "source": [
    "class Generator(metaclass=ABCMeta):\n",
    "    def __init__(self, min_exe_time, max_exe_time):\n",
    "        self.initial_id = 0\n",
    "        self.max_time = max_exe_time\n",
    "        self.min_time = min_exe_time\n",
    "     \n",
    "    def generate_task(self, curr_time, deadline_coef=2):\n",
    "        \n",
    "        exe_time = random.randint(self.min_time, self.max_time + 1)\n",
    "        deadline = curr_time + exe_time \\\n",
    "                    + random.randint(exe_time, deadline_coef * exe_time)\n",
    "        task = Task(self.initial_id, curr_time, exe_time, deadline=deadline)\n",
    "        self.initial_id += 1\n",
    "        return task\n",
    "    \n",
    "    @abstractmethod    \n",
    "    def generate_tasks(self, curr_time):\n",
    "        tasks = []\n",
    "        return tasks\n",
    "        \n",
    "        \n",
    "class UniformGenerator(Generator):\n",
    "    def __init__(self, min_exe_time, max_exe_time, tasks_range=(0, 3)):\n",
    "        \"\"\"\n",
    "        :param tuple[int] tasks_range: min and max number of generated tasks per timestep\n",
    "        \"\"\"\n",
    "        Generator.__init__(self, min_exe_time, max_exe_time)\n",
    "        self.range = tasks_range\n",
    "        \n",
    "    def generate_tasks(self, curr_time):\n",
    "        tasks = []\n",
    "        n_create = random.randint(self.range[0], self.range[1])\n",
    "        for i in range(n_create):\n",
    "            tasks.append(self.generate_task(curr_time))\n",
    "        return tasks\n",
    "    \n",
    "\n",
    "class ErlangGenerator(Generator):\n",
    "    def __init__(self, min_exe_time, max_exe_time, shape_param=1.5, scale_param=1):\n",
    "        \"\"\"\n",
    "        :param tuple[int] tasks_range: min and max number of generated tasks per timestep\n",
    "        \"\"\"\n",
    "        Generator.__init__(self, min_exe_time, max_exe_time)\n",
    "        self.shape_param = shape_param\n",
    "        self.scale_param = scale_param\n",
    "        \n",
    "    def generate_tasks(self, curr_time):\n",
    "        tasks = []\n",
    "        n_create = int(random.gammavariate(self.shape_param, self.scale_param))\n",
    "        for i in range(n_create):\n",
    "            tasks.append(self.generate_task(curr_time))\n",
    "        return tasks\n",
    "    "
   ]
  },
  {
   "cell_type": "code",
   "execution_count": 4,
   "metadata": {},
   "outputs": [],
   "source": [
    "class SimpleGenerator(Generator):\n",
    "    def __init__(self, min_exe_time, max_exe_time, intensity=0.1):\n",
    "        Generator.__init__(self, min_exe_time, max_exe_time)\n",
    "        self.intensity = intensity\n",
    "        \n",
    "    def generate_task(self, curr_time):\n",
    "        chance = random.random()\n",
    "        if chance < self.intensity:\n",
    "            exe_time = random.randint(self.min_time, self.max_time + 1)\n",
    "            deadline = curr_time + exe_time + random.randint(exe_time,\n",
    "                                                             2 * exe_time)\n",
    "            \n",
    "            task = Task(self.initial_id, curr_time, exe_time, deadline=deadline)\n",
    "            self.initial_id += 1\n",
    "            return task\n",
    "        return None\n",
    "    "
   ]
  },
  {
   "cell_type": "code",
   "execution_count": 5,
   "metadata": {},
   "outputs": [],
   "source": [
    "class Queue(metaclass=ABCMeta):\n",
    "    \n",
    "    def __init__(self):\n",
    "        self._queue = []\n",
    "        self._len = 0 \n",
    "    \n",
    "    @property\n",
    "    def queue(self):\n",
    "        return self._queue\n",
    "        \n",
    "    @property\n",
    "    def len(self):\n",
    "        return self._len\n",
    "    \n",
    "    @abstractmethod\n",
    "    def push_task(self):\n",
    "        None\n",
    "    \n",
    "    @abstractmethod\n",
    "    def get_task(self):\n",
    "        None\n",
    "        \n",
    "    def push_tasks(self, tasks):\n",
    "        for task in tasks:\n",
    "            self.push_task(task)\n",
    "    \n",
    "\n",
    "class FIFO(Queue):\n",
    "    \n",
    "    def __init__(self):\n",
    "        Queue.__init__(self)\n",
    "    \n",
    "    def push_task(self, task):\n",
    "        if isinstance(task, Task):\n",
    "            self._queue.append(task)\n",
    "            self._len += 1\n",
    "        \n",
    "    def get_task(self):\n",
    "        if self._len == 0:\n",
    "            return None\n",
    "        else:\n",
    "            self._len -= 1\n",
    "            return self._queue.pop(0)\n",
    "        \n",
    "        \n",
    "class LIFO(Queue):\n",
    "    \n",
    "    def __init__(self):\n",
    "        Queue.__init__(self)\n",
    "    \n",
    "    def push_task(self, task):\n",
    "        self._queue.append(task)\n",
    "        self._len += 1\n",
    "        \n",
    "    def get_task(self):\n",
    "        if self._len == 0:\n",
    "            return None\n",
    "        else:\n",
    "            self._len -= 1\n",
    "            return self._queue.pop(self.len)        \n",
    "               \n",
    "            \n",
    "class EDF(Queue):\n",
    "    \n",
    "    def __init__(self):\n",
    "        Queue.__init__(self)\n",
    "        self.deadlines = []\n",
    "\n",
    "    def push_task(self, task):\n",
    "        if isinstance(task, Task):\n",
    "            self._queue.append(task)\n",
    "            self._len += 1\n",
    "            self.deadlines.append(task.deadline)\n",
    "            \n",
    "    def get_task(self):\n",
    "        if self._len == 0:\n",
    "            return None\n",
    "        else:\n",
    "            self._len -= 1\n",
    "            early_deadline = min(self.deadlines)\n",
    "            index = self.deadlines.index(early_deadline)\n",
    "            task = self._queue.pop(index)\n",
    "            _ = self.deadlines.pop(index)\n",
    "            return task\n",
    "      \n",
    "    \n",
    "class RR(Queue):\n",
    "    \n",
    "    def __init__(self):\n",
    "        Queue.__init__(self)\n",
    "        self.queue_new = []\n",
    "        self.queue_proc = []\n",
    "\n",
    "    def push_task(self, task):\n",
    "        if isinstance(task, Task):\n",
    "            self._queue.append(task)\n",
    "            self._len += 1\n",
    "            if task.exe_time == task.exe_remain:\n",
    "                self.queue_new.append(task)\n",
    "            else:\n",
    "                self.queue_proc.append(task)\n",
    "            \n",
    "    def get_task(self):\n",
    "        if self._len == 0:\n",
    "            return None\n",
    "        elif:\n",
    "            self._len -= 1\n",
    "            early_deadline = min(self.deadlines)\n",
    "            index = self.deadlines.index(early_deadline)\n",
    "            task = self._queue.pop(index)\n",
    "            _ = self.deadlines.pop(index)\n",
    "            return task\n"
   ]
  },
  {
   "cell_type": "code",
   "execution_count": 6,
   "metadata": {},
   "outputs": [],
   "source": [
    "class Processor:\n",
    "    \n",
    "    def __init__(self):\n",
    "        self.sys_time = 0\n",
    "        self.is_free = True\n",
    "        self.curr_tasks = []\n",
    "        \n",
    "    def set_task(self, task):\n",
    "        if isinstance(task, Task) and self.is_free:\n",
    "            self.curr_tasks.append(task)\n",
    "            self.is_free = len(self.curr_tasks) < 1\n",
    "        \n",
    "    def run_tick(self):\n",
    "        \"\"\"\n",
    "        :return list[Task] currents:\n",
    "        :return list[Task] completed:\n",
    "        :return list[Task] back_to_queue: на случай прерываний\n",
    "        \"\"\"\n",
    "        self.sys_time += 1\n",
    "        currents = []\n",
    "        completed = []\n",
    "        back_to_queue = []\n",
    "        \n",
    "        for task in self.curr_tasks:\n",
    "            task.exe_tick(self.sys_time)\n",
    "            if task.completed:\n",
    "                completed.append(task)\n",
    "            else:\n",
    "                currents.append(task)\n",
    "                \n",
    "        self.curr_tasks = currents\n",
    "        self.is_free = len(self.curr_tasks) < 1\n",
    "        return currents, completed, back_to_queue\n",
    "    \n",
    "    def drop_task(self, task):\n",
    "        for curr_task in self.curr_tasks:\n",
    "            if curr_task == task:\n",
    "                self.curr_tasks.remove(task)\n",
    "    "
   ]
  },
  {
   "cell_type": "code",
   "execution_count": 7,
   "metadata": {},
   "outputs": [],
   "source": [
    "class RTS_sheduler:\n",
    "    def __init__(self, generator, queue, processor):\n",
    "        self.gen = generator\n",
    "        self.queue = queue\n",
    "        self.proc = processor\n",
    "        self.sys_time = 0\n",
    "        self.completed_tasks = []\n",
    "        self.dropped_tasks = []\n",
    "        self.created_tasks = []\n",
    "        \n",
    "    def simulate_steps(self, n_steps):\n",
    "        \n",
    "        for i in range(n_steps):\n",
    "            new_tasks = self.gen.generate_tasks(self.sys_time)\n",
    "            self.created_tasks += new_tasks\n",
    "            self.queue.push_tasks(new_tasks)\n",
    "          #  print(\"STEP\", i, \"Created\", new_tasks)\n",
    "            \n",
    "            while self.proc.is_free and self.queue.len > 0:\n",
    "                t = self.queue.get_task()\n",
    "                if t.deadline < (self.sys_time + t.exe_remain):\n",
    "           #         print(\"Dropped\", t)\n",
    "                    self.dropped_tasks.append(t)\n",
    "                else:\n",
    "           #         print(\"Proc\", t)\n",
    "                    self.proc.set_task(t)\n",
    "                \n",
    "            currents, completed, back_to_q = self.proc.run_tick()\n",
    "         #  if len(completed) > 0:\n",
    "         #       print(\"Completed\", completed)\n",
    "            self.completed_tasks += completed\n",
    "            self.sys_time += 1"
   ]
  },
  {
   "cell_type": "code",
   "execution_count": 170,
   "metadata": {},
   "outputs": [
    {
     "name": "stdout",
     "output_type": "stream",
     "text": [
      "STEP 0 Created []\n",
      "STEP 1 Created []\n",
      "STEP 2 Created []\n",
      "STEP 3 Created []\n",
      "STEP 4 Created []\n",
      "STEP 5 Created [Task 0, Task 1]\n",
      "Proc Task 1 Creation time = 5 exe_time = 1 Deadline = 8\n",
      "Completed [Task 1]\n",
      "STEP 6 Created []\n",
      "Dropped Task 0 Creation time = 5 exe_time = 0 Deadline = 5\n",
      "STEP 7 Created []\n",
      "STEP 8 Created []\n",
      "STEP 9 Created []\n",
      "STEP 10 Created []\n",
      "STEP 11 Created [Task 2, Task 3]\n",
      "Proc Task 3 Creation time = 11 exe_time = 1 Deadline = 14\n",
      "Completed [Task 3]\n",
      "STEP 12 Created [Task 4, Task 5, Task 6, Task 7]\n",
      "Proc Task 7 Creation time = 12 exe_time = 4 Deadline = 23\n",
      "STEP 13 Created []\n",
      "STEP 14 Created []\n",
      "STEP 15 Created []\n",
      "Completed [Task 7]\n",
      "STEP 16 Created []\n",
      "Dropped Task 6 Creation time = 12 exe_time = 1 Deadline = 15\n",
      "Dropped Task 5 Creation time = 12 exe_time = 0 Deadline = 12\n",
      "Proc Task 4 Creation time = 12 exe_time = 4 Deadline = 20\n",
      "STEP 17 Created [Task 8]\n",
      "STEP 18 Created []\n",
      "STEP 19 Created []\n",
      "Completed [Task 4]\n",
      "STEP 20 Created []\n",
      "Proc Task 8 Creation time = 17 exe_time = 2 Deadline = 22\n",
      "STEP 21 Created []\n",
      "Completed [Task 8]\n",
      "STEP 22 Created []\n",
      "Dropped Task 2 Creation time = 11 exe_time = 3 Deadline = 17\n",
      "STEP 23 Created []\n",
      "STEP 24 Created []\n",
      "STEP 25 Created []\n",
      "STEP 26 Created []\n",
      "STEP 27 Created [Task 9, Task 10]\n",
      "Proc Task 10 Creation time = 27 exe_time = 1 Deadline = 30\n",
      "Completed [Task 10]\n",
      "STEP 28 Created []\n",
      "Dropped Task 9 Creation time = 27 exe_time = 0 Deadline = 27\n",
      "STEP 29 Created [Task 11, Task 12]\n",
      "Proc Task 12 Creation time = 29 exe_time = 1 Deadline = 31\n",
      "Completed [Task 12]\n",
      "STEP 30 Created []\n",
      "Proc Task 11 Creation time = 29 exe_time = 2 Deadline = 33\n",
      "STEP 31 Created [Task 13, Task 14]\n",
      "Completed [Task 11]\n",
      "STEP 32 Created []\n",
      "Proc Task 14 Creation time = 31 exe_time = 2 Deadline = 35\n",
      "STEP 33 Created [Task 15]\n",
      "Completed [Task 14]\n",
      "STEP 34 Created [Task 16]\n",
      "Proc Task 16 Creation time = 34 exe_time = 2 Deadline = 39\n",
      "STEP 35 Created []\n",
      "Completed [Task 16]\n",
      "STEP 36 Created []\n",
      "Proc Task 15 Creation time = 33 exe_time = 3 Deadline = 40\n",
      "STEP 37 Created []\n",
      "STEP 38 Created []\n",
      "Completed [Task 15]\n",
      "STEP 39 Created []\n",
      "Dropped Task 13 Creation time = 31 exe_time = 2 Deadline = 36\n",
      "STEP 40 Created []\n",
      "STEP 41 Created [Task 17, Task 18, Task 19, Task 20]\n",
      "Proc Task 20 Creation time = 41 exe_time = 0 Deadline = 41\n",
      "STEP 42 Created []\n",
      "STEP 43 Created []\n",
      "STEP 44 Created []\n",
      "STEP 45 Created [Task 21]\n",
      "STEP 46 Created []\n",
      "STEP 47 Created []\n",
      "STEP 48 Created [Task 22]\n",
      "STEP 49 Created [Task 23]\n",
      "STEP 50 Created []\n",
      "STEP 51 Created []\n",
      "STEP 52 Created []\n",
      "STEP 53 Created [Task 24, Task 25]\n",
      "STEP 54 Created []\n",
      "STEP 55 Created []\n",
      "STEP 56 Created []\n",
      "STEP 57 Created [Task 26, Task 27]\n",
      "STEP 58 Created [Task 28]\n",
      "STEP 59 Created []\n",
      "STEP 60 Created [Task 29, Task 30]\n",
      "STEP 61 Created [Task 31]\n",
      "STEP 62 Created []\n",
      "STEP 63 Created []\n",
      "STEP 64 Created []\n",
      "STEP 65 Created [Task 32, Task 33]\n",
      "STEP 66 Created []\n",
      "STEP 67 Created []\n",
      "STEP 68 Created []\n",
      "STEP 69 Created []\n",
      "STEP 70 Created []\n",
      "STEP 71 Created []\n",
      "STEP 72 Created [Task 34]\n",
      "STEP 73 Created []\n",
      "STEP 74 Created [Task 35]\n",
      "STEP 75 Created []\n",
      "STEP 76 Created []\n",
      "STEP 77 Created []\n",
      "STEP 78 Created []\n",
      "STEP 79 Created [Task 36]\n",
      "STEP 80 Created []\n",
      "STEP 81 Created []\n",
      "STEP 82 Created []\n",
      "STEP 83 Created []\n",
      "STEP 84 Created [Task 37, Task 38]\n",
      "STEP 85 Created [Task 39]\n",
      "STEP 86 Created []\n",
      "STEP 87 Created [Task 40]\n",
      "STEP 88 Created [Task 41]\n",
      "STEP 89 Created [Task 42, Task 43, Task 44]\n",
      "STEP 90 Created [Task 45]\n",
      "STEP 91 Created [Task 46, Task 47, Task 48]\n",
      "STEP 92 Created [Task 49]\n",
      "STEP 93 Created []\n",
      "STEP 94 Created []\n",
      "STEP 95 Created [Task 50, Task 51]\n",
      "STEP 96 Created []\n",
      "STEP 97 Created []\n",
      "STEP 98 Created [Task 52]\n",
      "STEP 99 Created [Task 53, Task 54]\n"
     ]
    }
   ],
   "source": [
    "g = ErlangGenerator(0, 3, shape_param=1)\n",
    "q = LIFO()\n",
    "p = Processor()\n",
    "\n",
    "rts = RTS_sheduler(g, q, p)\n",
    "rts.simulate_steps(100)"
   ]
  },
  {
   "cell_type": "code",
   "execution_count": 45,
   "metadata": {},
   "outputs": [],
   "source": [
    "g = ErlangGenerator(1, 3, shape_param=1.5)\n",
    "q = EDF()\n",
    "p = Processor()\n",
    "\n",
    "rts = RTS_sheduler(g, q, p)\n",
    "# rts.simulate_steps(100)"
   ]
  },
  {
   "cell_type": "code",
   "execution_count": 46,
   "metadata": {},
   "outputs": [],
   "source": [
    "n_create = []\n",
    "n_drop = []\n",
    "n_finish = []\n",
    "\n",
    "for i in range(0, 1000, 10):\n",
    "    \n",
    "    rts.simulate_steps(10)\n",
    "    \n",
    "    n_finish.append(len(rts.completed_tasks))\n",
    "    n_drop.append(len(rts.dropped_tasks))\n",
    "    n_create.append(len(rts.created_tasks))\n"
   ]
  },
  {
   "cell_type": "code",
   "execution_count": 47,
   "metadata": {},
   "outputs": [],
   "source": [
    "g2 = ErlangGenerator(1, 3, shape_param=1.5)\n",
    "q2 = LIFO()\n",
    "p2 = Processor()\n",
    "\n",
    "rts2 = RTS_sheduler(g, q, p)\n",
    "# rts.simulate_steps(100)"
   ]
  },
  {
   "cell_type": "code",
   "execution_count": 48,
   "metadata": {},
   "outputs": [],
   "source": [
    "n_create2 = []\n",
    "n_drop2 = []\n",
    "n_finish2 = []\n",
    "\n",
    "for i in range(0, 1000, 10):\n",
    "    \n",
    "    rts2.simulate_steps(10)\n",
    "    \n",
    "    n_finish2.append(len(rts2.completed_tasks))\n",
    "    n_drop2.append(len(rts2.dropped_tasks))\n",
    "    n_create2.append(len(rts2.created_tasks))\n"
   ]
  },
  {
   "cell_type": "code",
   "execution_count": 49,
   "metadata": {},
   "outputs": [
    {
     "data": {
      "image/png": "[encoded data removed]",
      "text/plain": [
       "<Figure size 1080x360 with 2 Axes>"
      ]
     },
     "metadata": {
      "needs_background": "light"
     },
     "output_type": "display_data"
    }
   ],
   "source": [
    "fig, ax = plt.subplots(nrows=1, ncols=2, figsize=(15, 5))\n",
    "    \n",
    "ax[0].plot(range(0, 1000, 10), n_finish, color=\"green\", linewidth=3, ls=\"-\")\n",
    "ax[0].plot(range(0, 1000, 10), n_finish2, color=\"red\", linewidth=3, ls=\"-\")\n",
    "ax[0].set(title=\"EDF queue\", xlabel=\"time (s)\")\n",
    "ax[0].legend([\"N completed tasks EDF\", \"N completed tasks LIFO\"], fontsize=16, loc=0)\n",
    "ax[0].grid()\n",
    "\n",
    "ax[1].plot(range(0, 1000, 10), n_drop, color=\"green\", linewidth=3, ls=\"-\")\n",
    "ax[1].plot(range(0, 1000, 10), n_drop2, color=\"red\", linewidth=3, ls=\"-\")\n",
    "ax[1].set(title=\"LIFO queue\", xlabel=\"time (s)\")\n",
    "ax[1].legend([\"N dropped EDF\", \"N dropped LIFO\"], fontsize=16, loc=0)\n",
    "ax[1].grid()\n",
    "\n",
    "plt.show()\n"
   ]
  },
  {
   "cell_type": "code",
   "execution_count": 189,
   "metadata": {},
   "outputs": [
    {
     "data": {
      "text/plain": [
       "385"
      ]
     },
     "execution_count": 189,
     "metadata": {},
     "output_type": "execute_result"
    }
   ],
   "source": [
    "len(rts.completed_tasks)"
   ]
  },
  {
   "cell_type": "code",
   "execution_count": 180,
   "metadata": {},
   "outputs": [
    {
     "data": {
      "text/plain": [
       "28"
      ]
     },
     "execution_count": 180,
     "metadata": {},
     "output_type": "execute_result"
    }
   ],
   "source": [
    "len(rts.dropped_tasks)"
   ]
  },
  {
   "cell_type": "code",
   "execution_count": 181,
   "metadata": {},
   "outputs": [
    {
     "data": {
      "text/plain": [
       "69"
      ]
     },
     "execution_count": 181,
     "metadata": {},
     "output_type": "execute_result"
    }
   ],
   "source": [
    "len(rts.created_tasks)"
   ]
  },
  {
   "cell_type": "code",
   "execution_count": 182,
   "metadata": {},
   "outputs": [
    {
     "data": {
      "text/plain": [
       "[]"
      ]
     },
     "execution_count": 182,
     "metadata": {},
     "output_type": "execute_result"
    }
   ],
   "source": [
    "rts.proc.curr_tasks"
   ]
  },
  {
   "cell_type": "code",
   "execution_count": 85,
   "metadata": {},
   "outputs": [],
   "source": [
    "a = [int(random.gammavariate(1.5, 1)) for i in range(10000)]"
   ]
  },
  {
   "cell_type": "code",
   "execution_count": 58,
   "metadata": {},
   "outputs": [],
   "source": [
    "a = np.random.gamma(3, 1, size=10000)"
   ]
  },
  {
   "cell_type": "code",
   "execution_count": 86,
   "metadata": {},
   "outputs": [
    {
     "data": {
      "image/png": "[encoded data removed]",
      "text/plain": [
       "<Figure size 432x288 with 1 Axes>"
      ]
     },
     "metadata": {
      "needs_background": "light"
     },
     "output_type": "display_data"
    }
   ],
   "source": [
    "plt.hist(a, bins=100)\n",
    "plt.show()"
   ]
  },
  {
   "cell_type": "code",
   "execution_count": null,
   "metadata": {},
   "outputs": [],
   "source": []
  }
 ],
 "metadata": {
  "kernelspec": {
   "display_name": "Python 3",
   "language": "python",
   "name": "python3"
  },
  "language_info": {
   "codemirror_mode": {
    "name": "ipython",
    "version": 3
   },
   "file_extension": ".py",
   "mimetype": "text/x-python",
   "name": "python",
   "nbconvert_exporter": "python",
   "pygments_lexer": "ipython3",
   "version": "3.6.8"
  }
 },
 "nbformat": 4,
 "nbformat_minor": 2
}
